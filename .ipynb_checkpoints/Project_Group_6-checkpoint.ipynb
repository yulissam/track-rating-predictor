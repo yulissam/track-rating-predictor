{
 "cells": [
  {
   "cell_type": "markdown",
   "metadata": {},
   "source": [
    "# Ratings Predictor - Project Group 6\n",
    "Gillian Foster, Tristan Hsieh, Yulissa Montes, Ezra Rebollar\n",
    "\n",
    "April 19, 2019 \n",
    "\n",
    "50395"
   ]
  },
  {
   "cell_type": "code",
   "execution_count": 4,
   "metadata": {},
   "outputs": [],
   "source": [
    "import warnings\n",
    "warnings.simplefilter(\"ignore\")\n",
    "import pandas as pd\n",
    "import numpy as np\n",
    "import sklearn as sk\n",
    "import matplotlib.pyplot as plt\n",
    "import time"
   ]
  },
  {
   "cell_type": "markdown",
   "metadata": {},
   "source": [
    "### Step One: Organizing the Data\n",
    "\n",
    "The data collected from https://dataverse.harvard.edu/dataset.xhtml?persistentId=doi:10.7910/DVN/TVYEGI is divided into six CSV files. Here, the data is collected into a single set and widdled into the relevant features."
   ]
  },
  {
   "cell_type": "code",
   "execution_count": 39,
   "metadata": {},
   "outputs": [
    {
     "name": "stdout",
     "output_type": "stream",
     "text": [
      "AttributeID      0\n",
      "AttributeName    0\n",
      "dtype: int64\n",
      "UserID         0\n",
      "TrackID        0\n",
      "Rating         0\n",
      "AttributeID    0\n",
      "dtype: int64\n",
      "TrackID         0\n",
      "LastfmID        0\n",
      "Artist          0\n",
      "Title           0\n",
      "URL             0\n",
      "SpotifyURL      0\n",
      "ClipStart(s)    0\n",
      "ClipEnd(s)      0\n",
      "dtype: int64\n"
     ]
    }
   ],
   "source": [
    "attributes = pd.read_csv(\"attributes.csv\")\n",
    "print(attributes.isnull().sum())\n",
    "ratings_all = pd.read_csv(\"ratings_all.csv\")\n",
    "print(ratings_all.isnull().sum())\n",
    "track_info = pd.read_csv(\"trackinfo.csv\")\n",
    "print(track_info.isnull().sum())"
   ]
  },
  {
   "cell_type": "markdown",
   "metadata": {},
   "source": [
    "There is no null data in the selected dataset.\n",
    "\n",
    "Some data, like clip start and end times, is more useful when consolidated. ClipLength and TitleLength are both derived features."
   ]
  },
  {
   "cell_type": "code",
   "execution_count": 40,
   "metadata": {},
   "outputs": [
    {
     "data": {
      "text/html": [
       "<div>\n",
       "<style scoped>\n",
       "    .dataframe tbody tr th:only-of-type {\n",
       "        vertical-align: middle;\n",
       "    }\n",
       "\n",
       "    .dataframe tbody tr th {\n",
       "        vertical-align: top;\n",
       "    }\n",
       "\n",
       "    .dataframe thead th {\n",
       "        text-align: right;\n",
       "    }\n",
       "</style>\n",
       "<table border=\"1\" class=\"dataframe\">\n",
       "  <thead>\n",
       "    <tr style=\"text-align: right;\">\n",
       "      <th></th>\n",
       "      <th>TrackID</th>\n",
       "      <th>Artist</th>\n",
       "      <th>TitleLength</th>\n",
       "      <th>ClipLength</th>\n",
       "    </tr>\n",
       "  </thead>\n",
       "  <tbody>\n",
       "    <tr>\n",
       "      <td>0</td>\n",
       "      <td>1</td>\n",
       "      <td>Autechre</td>\n",
       "      <td>4</td>\n",
       "      <td>14.875</td>\n",
       "    </tr>\n",
       "    <tr>\n",
       "      <td>1</td>\n",
       "      <td>2</td>\n",
       "      <td>Lalo Schifrin</td>\n",
       "      <td>23</td>\n",
       "      <td>29.925</td>\n",
       "    </tr>\n",
       "    <tr>\n",
       "      <td>2</td>\n",
       "      <td>3</td>\n",
       "      <td>Daft Punk</td>\n",
       "      <td>11</td>\n",
       "      <td>14.875</td>\n",
       "    </tr>\n",
       "    <tr>\n",
       "      <td>3</td>\n",
       "      <td>4</td>\n",
       "      <td>Portishead</td>\n",
       "      <td>10</td>\n",
       "      <td>29.925</td>\n",
       "    </tr>\n",
       "    <tr>\n",
       "      <td>4</td>\n",
       "      <td>5</td>\n",
       "      <td>The Rolling Stones</td>\n",
       "      <td>13</td>\n",
       "      <td>29.925</td>\n",
       "    </tr>\n",
       "    <tr>\n",
       "      <td>5</td>\n",
       "      <td>6</td>\n",
       "      <td>Tindersticks</td>\n",
       "      <td>16</td>\n",
       "      <td>29.925</td>\n",
       "    </tr>\n",
       "    <tr>\n",
       "      <td>6</td>\n",
       "      <td>7</td>\n",
       "      <td>FischerSpooner</td>\n",
       "      <td>16</td>\n",
       "      <td>14.875</td>\n",
       "    </tr>\n",
       "    <tr>\n",
       "      <td>7</td>\n",
       "      <td>8</td>\n",
       "      <td>Horace Silver</td>\n",
       "      <td>23</td>\n",
       "      <td>29.950</td>\n",
       "    </tr>\n",
       "    <tr>\n",
       "      <td>8</td>\n",
       "      <td>9</td>\n",
       "      <td>Janet Jackson</td>\n",
       "      <td>24</td>\n",
       "      <td>14.875</td>\n",
       "    </tr>\n",
       "    <tr>\n",
       "      <td>9</td>\n",
       "      <td>10</td>\n",
       "      <td>Chet Baker</td>\n",
       "      <td>25</td>\n",
       "      <td>29.925</td>\n",
       "    </tr>\n",
       "  </tbody>\n",
       "</table>\n",
       "</div>"
      ],
      "text/plain": [
       "   TrackID              Artist  TitleLength  ClipLength\n",
       "0        1            Autechre            4      14.875\n",
       "1        2       Lalo Schifrin           23      29.925\n",
       "2        3           Daft Punk           11      14.875\n",
       "3        4          Portishead           10      29.925\n",
       "4        5  The Rolling Stones           13      29.925\n",
       "5        6        Tindersticks           16      29.925\n",
       "6        7      FischerSpooner           16      14.875\n",
       "7        8       Horace Silver           23      29.950\n",
       "8        9       Janet Jackson           24      14.875\n",
       "9       10          Chet Baker           25      29.925"
      ]
     },
     "execution_count": 40,
     "metadata": {},
     "output_type": "execute_result"
    }
   ],
   "source": [
    "track_info['TitleLength'] = track_info['Title'].str.len()\n",
    "track_info['ClipLength'] = track_info[\"ClipEnd(s)\"] - track_info[\"ClipStart(s)\"]\n",
    "track_info = track_info.drop(['LastfmID', 'URL', 'SpotifyURL','ClipStart(s)', 'ClipEnd(s)', 'Title'], axis=1)\n",
    "track_info.head(10)"
   ]
  },
  {
   "cell_type": "code",
   "execution_count": null,
   "metadata": {},
   "outputs": [],
   "source": []
  },
  {
   "cell_type": "code",
   "execution_count": null,
   "metadata": {},
   "outputs": [],
   "source": []
  },
  {
   "cell_type": "code",
   "execution_count": null,
   "metadata": {},
   "outputs": [],
   "source": []
  },
  {
   "cell_type": "code",
   "execution_count": null,
   "metadata": {},
   "outputs": [],
   "source": []
  }
 ],
 "metadata": {
  "kernelspec": {
   "display_name": "Python 3",
   "language": "python",
   "name": "python3"
  },
  "language_info": {
   "codemirror_mode": {
    "name": "ipython",
    "version": 3
   },
   "file_extension": ".py",
   "mimetype": "text/x-python",
   "name": "python",
   "nbconvert_exporter": "python",
   "pygments_lexer": "ipython3",
   "version": "3.7.4"
  }
 },
 "nbformat": 4,
 "nbformat_minor": 2
}
