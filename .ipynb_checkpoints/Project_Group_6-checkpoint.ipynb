{
 "cells": [
  {
   "cell_type": "markdown",
   "metadata": {},
   "source": [
    "# Ratings Predictor - Project Group 6\n",
    "Gillian Foster, Tristan Hsieh, Yulissa Montes, Ezra Rebollar\n",
    "\n",
    "April 19, 2019 \n",
    "\n",
    "50395"
   ]
  },
  {
   "cell_type": "code",
   "execution_count": 2,
   "metadata": {},
   "outputs": [],
   "source": [
    "import warnings\n",
    "warnings.simplefilter(\"ignore\")\n",
    "import pandas as pd\n",
    "import numpy as np\n",
    "import sklearn as sk\n",
    "import matplotlib.pyplot as plt\n",
    "import time"
   ]
  },
  {
   "cell_type": "markdown",
   "metadata": {},
   "source": [
    "### Step One: Organizing the Data\n",
    "\n",
    "The data collected from https://dataverse.harvard.edu/dataset.xhtml?persistentId=doi:10.7910/DVN/TVYEGI is divided into six CSV files. Here, the data is collected into a single set and whittled into the relevant features."
   ]
  },
  {
   "cell_type": "code",
   "execution_count": 3,
   "metadata": {},
   "outputs": [
    {
     "name": "stdout",
     "output_type": "stream",
     "text": [
      "AttributeID      0\n",
      "AttributeName    0\n",
      "dtype: int64\n",
      "TrackID        0\n",
      "Valence        0\n",
      "Arousal        0\n",
      "Tension        0\n",
      "Atmospheric    0\n",
      "Happy          0\n",
      "Dark           0\n",
      "Sad            0\n",
      "Angry          0\n",
      "Sensual        0\n",
      "Sentimental    0\n",
      "dtype: int64\n",
      "TrackID         0\n",
      "LastfmID        0\n",
      "Artist          0\n",
      "Title           0\n",
      "URL             0\n",
      "SpotifyURL      0\n",
      "ClipStart(s)    0\n",
      "ClipEnd(s)      0\n",
      "dtype: int64\n"
     ]
    }
   ],
   "source": [
    "attributes = pd.read_csv(\"attributes.csv\")\n",
    "print(attributes.isnull().sum())\n",
    "ratings_mean = pd.read_csv(\"ratings_mean.csv\")\n",
    "print(ratings_mean.isnull().sum())\n",
    "track_info = pd.read_csv(\"trackinfo.csv\")\n",
    "print(track_info.isnull().sum())"
   ]
  },
  {
   "cell_type": "markdown",
   "metadata": {},
   "source": [
    "There is no null data in the selected dataset.\n",
    "\n",
    "Some data, like clip start and end times, is more useful when consolidated. ClipLength and TitleLength are both derived features."
   ]
  },
  {
   "cell_type": "code",
   "execution_count": 4,
   "metadata": {},
   "outputs": [
    {
     "data": {
      "text/html": [
       "<div>\n",
       "<style scoped>\n",
       "    .dataframe tbody tr th:only-of-type {\n",
       "        vertical-align: middle;\n",
       "    }\n",
       "\n",
       "    .dataframe tbody tr th {\n",
       "        vertical-align: top;\n",
       "    }\n",
       "\n",
       "    .dataframe thead th {\n",
       "        text-align: right;\n",
       "    }\n",
       "</style>\n",
       "<table border=\"1\" class=\"dataframe\">\n",
       "  <thead>\n",
       "    <tr style=\"text-align: right;\">\n",
       "      <th></th>\n",
       "      <th>TrackID</th>\n",
       "      <th>Artist</th>\n",
       "      <th>TitleLength</th>\n",
       "      <th>ClipLength</th>\n",
       "    </tr>\n",
       "  </thead>\n",
       "  <tbody>\n",
       "    <tr>\n",
       "      <td>0</td>\n",
       "      <td>1</td>\n",
       "      <td>Autechre</td>\n",
       "      <td>4</td>\n",
       "      <td>14.875</td>\n",
       "    </tr>\n",
       "    <tr>\n",
       "      <td>1</td>\n",
       "      <td>2</td>\n",
       "      <td>Lalo Schifrin</td>\n",
       "      <td>23</td>\n",
       "      <td>29.925</td>\n",
       "    </tr>\n",
       "    <tr>\n",
       "      <td>2</td>\n",
       "      <td>3</td>\n",
       "      <td>Daft Punk</td>\n",
       "      <td>11</td>\n",
       "      <td>14.875</td>\n",
       "    </tr>\n",
       "    <tr>\n",
       "      <td>3</td>\n",
       "      <td>4</td>\n",
       "      <td>Portishead</td>\n",
       "      <td>10</td>\n",
       "      <td>29.925</td>\n",
       "    </tr>\n",
       "    <tr>\n",
       "      <td>4</td>\n",
       "      <td>5</td>\n",
       "      <td>The Rolling Stones</td>\n",
       "      <td>13</td>\n",
       "      <td>29.925</td>\n",
       "    </tr>\n",
       "    <tr>\n",
       "      <td>5</td>\n",
       "      <td>6</td>\n",
       "      <td>Tindersticks</td>\n",
       "      <td>16</td>\n",
       "      <td>29.925</td>\n",
       "    </tr>\n",
       "    <tr>\n",
       "      <td>6</td>\n",
       "      <td>7</td>\n",
       "      <td>FischerSpooner</td>\n",
       "      <td>16</td>\n",
       "      <td>14.875</td>\n",
       "    </tr>\n",
       "    <tr>\n",
       "      <td>7</td>\n",
       "      <td>8</td>\n",
       "      <td>Horace Silver</td>\n",
       "      <td>23</td>\n",
       "      <td>29.950</td>\n",
       "    </tr>\n",
       "    <tr>\n",
       "      <td>8</td>\n",
       "      <td>9</td>\n",
       "      <td>Janet Jackson</td>\n",
       "      <td>24</td>\n",
       "      <td>14.875</td>\n",
       "    </tr>\n",
       "    <tr>\n",
       "      <td>9</td>\n",
       "      <td>10</td>\n",
       "      <td>Chet Baker</td>\n",
       "      <td>25</td>\n",
       "      <td>29.925</td>\n",
       "    </tr>\n",
       "  </tbody>\n",
       "</table>\n",
       "</div>"
      ],
      "text/plain": [
       "   TrackID              Artist  TitleLength  ClipLength\n",
       "0        1            Autechre            4      14.875\n",
       "1        2       Lalo Schifrin           23      29.925\n",
       "2        3           Daft Punk           11      14.875\n",
       "3        4          Portishead           10      29.925\n",
       "4        5  The Rolling Stones           13      29.925\n",
       "5        6        Tindersticks           16      29.925\n",
       "6        7      FischerSpooner           16      14.875\n",
       "7        8       Horace Silver           23      29.950\n",
       "8        9       Janet Jackson           24      14.875\n",
       "9       10          Chet Baker           25      29.925"
      ]
     },
     "execution_count": 4,
     "metadata": {},
     "output_type": "execute_result"
    }
   ],
   "source": [
    "track_info['TitleLength'] = track_info['Title'].str.len()\n",
    "track_info['ClipLength'] = track_info[\"ClipEnd(s)\"] - track_info[\"ClipStart(s)\"]\n",
    "track_info = track_info.drop(['LastfmID', 'URL', 'SpotifyURL','ClipStart(s)', 'ClipEnd(s)', 'Title'], axis=1)\n",
    "track_info.head(10)"
   ]
  },
  {
   "cell_type": "code",
   "execution_count": 5,
   "metadata": {},
   "outputs": [
    {
     "data": {
      "text/html": [
       "<div>\n",
       "<style scoped>\n",
       "    .dataframe tbody tr th:only-of-type {\n",
       "        vertical-align: middle;\n",
       "    }\n",
       "\n",
       "    .dataframe tbody tr th {\n",
       "        vertical-align: top;\n",
       "    }\n",
       "\n",
       "    .dataframe thead th {\n",
       "        text-align: right;\n",
       "    }\n",
       "</style>\n",
       "<table border=\"1\" class=\"dataframe\">\n",
       "  <thead>\n",
       "    <tr style=\"text-align: right;\">\n",
       "      <th></th>\n",
       "      <th>Artist</th>\n",
       "      <th>TitleLength</th>\n",
       "      <th>ClipLength</th>\n",
       "      <th>Valence</th>\n",
       "      <th>Arousal</th>\n",
       "      <th>Tension</th>\n",
       "      <th>Atmospheric</th>\n",
       "      <th>Happy</th>\n",
       "      <th>Dark</th>\n",
       "      <th>Sad</th>\n",
       "      <th>Angry</th>\n",
       "      <th>Sensual</th>\n",
       "      <th>Sentimental</th>\n",
       "    </tr>\n",
       "  </thead>\n",
       "  <tbody>\n",
       "    <tr>\n",
       "      <td>0</td>\n",
       "      <td>Autechre</td>\n",
       "      <td>4</td>\n",
       "      <td>14.875</td>\n",
       "      <td>3.7000</td>\n",
       "      <td>5.2414</td>\n",
       "      <td>7.3000</td>\n",
       "      <td>4.6667</td>\n",
       "      <td>2.4667</td>\n",
       "      <td>5.7333</td>\n",
       "      <td>3.0690</td>\n",
       "      <td>4.5172</td>\n",
       "      <td>2.2667</td>\n",
       "      <td>1.8000</td>\n",
       "    </tr>\n",
       "    <tr>\n",
       "      <td>1</td>\n",
       "      <td>Lalo Schifrin</td>\n",
       "      <td>23</td>\n",
       "      <td>29.925</td>\n",
       "      <td>7.6786</td>\n",
       "      <td>6.9286</td>\n",
       "      <td>3.7500</td>\n",
       "      <td>4.6786</td>\n",
       "      <td>7.1429</td>\n",
       "      <td>1.4074</td>\n",
       "      <td>1.8929</td>\n",
       "      <td>1.3929</td>\n",
       "      <td>2.4286</td>\n",
       "      <td>2.8571</td>\n",
       "    </tr>\n",
       "    <tr>\n",
       "      <td>2</td>\n",
       "      <td>Daft Punk</td>\n",
       "      <td>11</td>\n",
       "      <td>14.875</td>\n",
       "      <td>6.6897</td>\n",
       "      <td>2.1333</td>\n",
       "      <td>2.6000</td>\n",
       "      <td>7.2000</td>\n",
       "      <td>4.8966</td>\n",
       "      <td>2.2000</td>\n",
       "      <td>3.0345</td>\n",
       "      <td>1.2333</td>\n",
       "      <td>5.1333</td>\n",
       "      <td>4.1000</td>\n",
       "    </tr>\n",
       "    <tr>\n",
       "      <td>3</td>\n",
       "      <td>Portishead</td>\n",
       "      <td>10</td>\n",
       "      <td>29.925</td>\n",
       "      <td>4.1000</td>\n",
       "      <td>3.9333</td>\n",
       "      <td>5.1667</td>\n",
       "      <td>6.4667</td>\n",
       "      <td>2.4333</td>\n",
       "      <td>5.3333</td>\n",
       "      <td>5.9000</td>\n",
       "      <td>2.8621</td>\n",
       "      <td>6.0000</td>\n",
       "      <td>5.6333</td>\n",
       "    </tr>\n",
       "    <tr>\n",
       "      <td>4</td>\n",
       "      <td>The Rolling Stones</td>\n",
       "      <td>13</td>\n",
       "      <td>29.925</td>\n",
       "      <td>6.0345</td>\n",
       "      <td>3.8276</td>\n",
       "      <td>4.3793</td>\n",
       "      <td>5.4483</td>\n",
       "      <td>4.6667</td>\n",
       "      <td>2.2222</td>\n",
       "      <td>2.6897</td>\n",
       "      <td>2.6897</td>\n",
       "      <td>3.6786</td>\n",
       "      <td>4.1071</td>\n",
       "    </tr>\n",
       "    <tr>\n",
       "      <td>5</td>\n",
       "      <td>Tindersticks</td>\n",
       "      <td>16</td>\n",
       "      <td>29.925</td>\n",
       "      <td>5.8148</td>\n",
       "      <td>3.0714</td>\n",
       "      <td>3.5357</td>\n",
       "      <td>6.3793</td>\n",
       "      <td>3.8276</td>\n",
       "      <td>3.0000</td>\n",
       "      <td>5.3793</td>\n",
       "      <td>1.6897</td>\n",
       "      <td>4.6552</td>\n",
       "      <td>5.7586</td>\n",
       "    </tr>\n",
       "    <tr>\n",
       "      <td>6</td>\n",
       "      <td>FischerSpooner</td>\n",
       "      <td>16</td>\n",
       "      <td>14.875</td>\n",
       "      <td>4.4828</td>\n",
       "      <td>6.2000</td>\n",
       "      <td>6.4667</td>\n",
       "      <td>4.0345</td>\n",
       "      <td>3.4138</td>\n",
       "      <td>4.3667</td>\n",
       "      <td>3.7000</td>\n",
       "      <td>3.3333</td>\n",
       "      <td>2.3793</td>\n",
       "      <td>2.6667</td>\n",
       "    </tr>\n",
       "    <tr>\n",
       "      <td>7</td>\n",
       "      <td>Horace Silver</td>\n",
       "      <td>23</td>\n",
       "      <td>29.950</td>\n",
       "      <td>5.9310</td>\n",
       "      <td>5.4138</td>\n",
       "      <td>4.5517</td>\n",
       "      <td>5.6207</td>\n",
       "      <td>4.3214</td>\n",
       "      <td>2.0741</td>\n",
       "      <td>4.0000</td>\n",
       "      <td>1.8077</td>\n",
       "      <td>3.7931</td>\n",
       "      <td>3.3929</td>\n",
       "    </tr>\n",
       "    <tr>\n",
       "      <td>8</td>\n",
       "      <td>Janet Jackson</td>\n",
       "      <td>24</td>\n",
       "      <td>14.875</td>\n",
       "      <td>6.9310</td>\n",
       "      <td>7.2500</td>\n",
       "      <td>4.1786</td>\n",
       "      <td>4.6207</td>\n",
       "      <td>6.5517</td>\n",
       "      <td>1.6552</td>\n",
       "      <td>2.4138</td>\n",
       "      <td>1.6552</td>\n",
       "      <td>4.5000</td>\n",
       "      <td>3.9286</td>\n",
       "    </tr>\n",
       "    <tr>\n",
       "      <td>9</td>\n",
       "      <td>Chet Baker</td>\n",
       "      <td>25</td>\n",
       "      <td>29.925</td>\n",
       "      <td>5.3929</td>\n",
       "      <td>1.9643</td>\n",
       "      <td>2.8276</td>\n",
       "      <td>7.2069</td>\n",
       "      <td>2.7586</td>\n",
       "      <td>3.4138</td>\n",
       "      <td>5.7586</td>\n",
       "      <td>1.5862</td>\n",
       "      <td>6.0345</td>\n",
       "      <td>5.7586</td>\n",
       "    </tr>\n",
       "  </tbody>\n",
       "</table>\n",
       "</div>"
      ],
      "text/plain": [
       "               Artist  TitleLength  ClipLength  Valence  Arousal  Tension  \\\n",
       "0            Autechre            4      14.875   3.7000   5.2414   7.3000   \n",
       "1       Lalo Schifrin           23      29.925   7.6786   6.9286   3.7500   \n",
       "2           Daft Punk           11      14.875   6.6897   2.1333   2.6000   \n",
       "3          Portishead           10      29.925   4.1000   3.9333   5.1667   \n",
       "4  The Rolling Stones           13      29.925   6.0345   3.8276   4.3793   \n",
       "5        Tindersticks           16      29.925   5.8148   3.0714   3.5357   \n",
       "6      FischerSpooner           16      14.875   4.4828   6.2000   6.4667   \n",
       "7       Horace Silver           23      29.950   5.9310   5.4138   4.5517   \n",
       "8       Janet Jackson           24      14.875   6.9310   7.2500   4.1786   \n",
       "9          Chet Baker           25      29.925   5.3929   1.9643   2.8276   \n",
       "\n",
       "   Atmospheric   Happy    Dark     Sad   Angry  Sensual  Sentimental  \n",
       "0       4.6667  2.4667  5.7333  3.0690  4.5172   2.2667       1.8000  \n",
       "1       4.6786  7.1429  1.4074  1.8929  1.3929   2.4286       2.8571  \n",
       "2       7.2000  4.8966  2.2000  3.0345  1.2333   5.1333       4.1000  \n",
       "3       6.4667  2.4333  5.3333  5.9000  2.8621   6.0000       5.6333  \n",
       "4       5.4483  4.6667  2.2222  2.6897  2.6897   3.6786       4.1071  \n",
       "5       6.3793  3.8276  3.0000  5.3793  1.6897   4.6552       5.7586  \n",
       "6       4.0345  3.4138  4.3667  3.7000  3.3333   2.3793       2.6667  \n",
       "7       5.6207  4.3214  2.0741  4.0000  1.8077   3.7931       3.3929  \n",
       "8       4.6207  6.5517  1.6552  2.4138  1.6552   4.5000       3.9286  \n",
       "9       7.2069  2.7586  3.4138  5.7586  1.5862   6.0345       5.7586  "
      ]
     },
     "execution_count": 5,
     "metadata": {},
     "output_type": "execute_result"
    }
   ],
   "source": [
    "data_means = track_info.merge(ratings_mean, on='TrackID')\n",
    "data_means = data_means.drop(['TrackID'], axis=1)\n",
    "data_means.head(10)"
   ]
  },
  {
   "cell_type": "markdown",
   "metadata": {},
   "source": [
    "Now the class label is created. To establish categorical values rather than a continuous series of numbers, the Sentimental values have been binned into integer replacements. "
   ]
  },
  {
   "cell_type": "code",
   "execution_count": 6,
   "metadata": {},
   "outputs": [
    {
     "data": {
      "text/plain": [
       "0    1\n",
       "1    2\n",
       "2    4\n",
       "3    5\n",
       "4    4\n",
       "5    5\n",
       "6    2\n",
       "7    3\n",
       "8    3\n",
       "9    5\n",
       "Name: Sentimental, dtype: category\n",
       "Categories (10, object): [0 < 1 < 2 < 3 ... 6 < 7 < 8 < 9]"
      ]
     },
     "execution_count": 6,
     "metadata": {},
     "output_type": "execute_result"
    }
   ],
   "source": [
    "new_labels = ['0','1','2','3','4','5','6','7','8','9']\n",
    "sectors = [0, 1, 2, 3, 4, 5, 6, 7, 8, 9, 10]\n",
    "sentimentalBinned = pd.cut(data_means[\"Sentimental\"], bins=sectors, labels=new_labels)\n",
    "sentimentalBinned.head(10)"
   ]
  },
  {
   "cell_type": "markdown",
   "metadata": {},
   "source": [
    "### Step Two: Exploring the Data\n",
    "\n",
    "Now combined into a single set, this explores some patterns in the data."
   ]
  },
  {
   "cell_type": "code",
   "execution_count": 7,
   "metadata": {},
   "outputs": [
    {
     "name": "stdout",
     "output_type": "stream",
     "text": [
      "data_means described: \n",
      "       TitleLength  ClipLength     Valence     Arousal     Tension  \\\n",
      "count   600.000000  600.000000  600.000000  600.000000  600.000000   \n",
      "mean     14.913333   26.341208    5.436206    5.010788    4.771573   \n",
      "std       7.928888    6.413236    1.195235    1.898004    1.453082   \n",
      "min       3.000000   14.875000    1.866700    1.600000    2.069000   \n",
      "25%      10.000000   29.925000    4.740700    3.178600    3.516100   \n",
      "50%      14.000000   29.925000    5.631800    5.086200    4.638100   \n",
      "75%      18.000000   29.925000    6.250000    6.720125    5.873250   \n",
      "max      60.000000   30.000000    8.000000    8.551700    8.400000   \n",
      "\n",
      "       Atmospheric       Happy        Dark         Sad       Angry  \\\n",
      "count   600.000000  600.000000  600.000000  600.000000  600.000000   \n",
      "mean      5.248452    4.037959    3.452491    3.959013    2.772385   \n",
      "std       1.424241    1.411678    1.486005    1.268322    1.588414   \n",
      "min       1.928600    1.448300    1.137900    1.321400    1.192300   \n",
      "25%       4.133300    2.965500    2.264850    2.966400    1.642900   \n",
      "50%       5.366700    3.929800    3.069000    3.931000    2.157550   \n",
      "75%       6.437050    4.896600    4.381250    4.965500    3.403450   \n",
      "max       8.069000    8.000000    8.066700    6.933300    8.428600   \n",
      "\n",
      "          Sensual  Sentimental  \n",
      "count  600.000000   600.000000  \n",
      "mean     3.519645     4.283908  \n",
      "std      1.328730     1.292418  \n",
      "min      1.206900     1.357100  \n",
      "25%      2.364300     3.248050  \n",
      "50%      3.454350     4.321400  \n",
      "75%      4.533900     5.291850  \n",
      "max      7.655200     7.413800  \n",
      "\n",
      "dimensions of data_means:\n",
      "number of rows: 600\n",
      "number of columns: 13\n",
      "\n"
     ]
    }
   ],
   "source": [
    "# data describe and dimensions\n",
    "print(\"data_means described: \" + \"\\n\" + str(data_means.describe()))\n",
    "print()\n",
    "print(\"dimensions of data_means:\" + \"\\n\" + \"number of rows: \" + str(data_means.shape[0]) + \"\\n\" + \"number of columns: \" + str(data_means.shape[1]))\n",
    "print()"
   ]
  },
  {
   "cell_type": "code",
   "execution_count": 8,
   "metadata": {},
   "outputs": [
    {
     "name": "stdout",
     "output_type": "stream",
     "text": [
      "correlation coefficient for Sentimental vs. Atmospheric: 0.7544399704393624\n",
      "correlation coefficient for Sentimental vs. Sad: 0.7344198936886337\n",
      "correlation coefficient for Sentimental vs. Arousal: -0.7146938692232553\n",
      "correlation coefficient for Sentimental vs. Sensual: 0.7008375734092313\n",
      "correlation coefficient for Sentimental vs. Tension: -0.6185503609410423\n",
      "correlation coefficient for Sentimental vs. Angry: -0.5125949063539434\n",
      "correlation coefficient for Sentimental vs. Dark: -0.1994732641335074\n",
      "correlation coefficient for Sentimental vs. Valence: 0.17219959538823057\n",
      "correlation coefficient for Sentimental vs. Happy: -0.08270548442427043\n"
     ]
    }
   ],
   "source": [
    "# correlation coefiicient for all moods against \"Sentimental\"\n",
    "print(\"correlation coefficient for Sentimental vs. Atmospheric:\", data_means['Sentimental'].corr(data_means['Atmospheric']))\n",
    "print(\"correlation coefficient for Sentimental vs. Sad:\", data_means['Sentimental'].corr(data_means['Sad']))\n",
    "print(\"correlation coefficient for Sentimental vs. Arousal:\", data_means['Sentimental'].corr(data_means['Arousal']))\n",
    "print(\"correlation coefficient for Sentimental vs. Sensual:\", data_means['Sentimental'].corr(data_means['Sensual']))\n",
    "print(\"correlation coefficient for Sentimental vs. Tension:\", data_means['Sentimental'].corr(data_means['Tension']))\n",
    "print(\"correlation coefficient for Sentimental vs. Angry:\", data_means['Sentimental'].corr(data_means['Angry']))\n",
    "print(\"correlation coefficient for Sentimental vs. Dark:\", data_means['Sentimental'].corr(data_means['Dark']))\n",
    "print(\"correlation coefficient for Sentimental vs. Valence:\", data_means['Sentimental'].corr(data_means['Valence']))\n",
    "print(\"correlation coefficient for Sentimental vs. Happy:\", data_means['Sentimental'].corr(data_means['Happy']))\n"
   ]
  },
  {
   "cell_type": "code",
   "execution_count": 9,
   "metadata": {},
   "outputs": [
    {
     "name": "stdout",
     "output_type": "stream",
     "text": [
      "<class 'pandas.core.frame.DataFrame'>\n",
      "features_train= (480, 12)  class_train= (480,)\n",
      "features_test= (120, 12)  class_test= (120,)\n",
      "     Sentimental\n",
      "296       2.7143\n",
      "511       3.0345\n",
      "580       3.8214\n",
      "251       5.7097\n",
      "443       4.2500\n",
      "..           ...\n",
      "426       3.6429\n",
      "359       1.8621\n",
      "147       5.2000\n",
      "593       5.7143\n",
      "165       2.6452\n",
      "\n",
      "[120 rows x 1 columns]\n",
      "class test: 296    2.7143\n",
      "511    3.0345\n",
      "580    3.8214\n",
      "251    5.7097\n",
      "443    4.2500\n",
      "        ...  \n",
      "426    3.6429\n",
      "359    1.8621\n",
      "147    5.2000\n",
      "593    5.7143\n",
      "165    2.6452\n",
      "Name: Sentimental, Length: 120, dtype: float64\n"
     ]
    }
   ],
   "source": [
    "from sklearn.model_selection import train_test_split\n",
    "# all data except \"Sentimental\"\n",
    "data_features = data_means.drop([\"Sentimental\"], axis=1)\n",
    "\n",
    "# should include \"Sentimental\"\n",
    "data_class = data_means[\"Sentimental\"]\n",
    "\n",
    "# split data into training and test set (proportions: 80 and 20)\n",
    "features_train, features_test, class_train, class_test = train_test_split(data_features, data_class, test_size=0.20)\n",
    "print(type(features_train))\n",
    "print(\"features_train=\",features_train.shape, \" class_train=\", class_train.shape)\n",
    "print(\"features_test=\",features_test.shape, \" class_test=\", class_test.shape)\n",
    "print(pd.DataFrame(class_test))\n",
    "print(\"class test:\", class_test)"
   ]
  },
  {
   "cell_type": "code",
   "execution_count": 10,
   "metadata": {},
   "outputs": [],
   "source": [
    "# get bins for model \n",
    "########## TBD ################\n",
    "# df = data_means.groupby([\"Valence\", \"Arousal\", \"Tension\", \"Atmospheric\", \"Happy\", \"Dark\", \"Sad\", \"Angry\", \"Sensual\"]).sum().reset_index()\n",
    "# print(df.head())\n",
    "# print(\"describe:\", df.describe())\n",
    "# print()\n",
    "#pd.qcut(df, q=3)"
   ]
  },
  {
   "cell_type": "code",
   "execution_count": null,
   "metadata": {},
   "outputs": [],
   "source": [
    "    "
   ]
  },
  {
   "cell_type": "code",
   "execution_count": null,
   "metadata": {},
   "outputs": [],
   "source": []
  },
  {
   "cell_type": "markdown",
   "metadata": {},
   "source": [
    "### Step Three: Trying Various Models\n",
    "Now that we have explored our data, we will try various models and see which one is the best for our data\n"
   ]
  },
  {
   "cell_type": "markdown",
   "metadata": {},
   "source": [
    "#### DBSCAN \n",
    "DBSCAN is a clustering method, where we define `Eps` and `MinPts` so that our model can partially cluster our data and label each data point as `noise`, `border`, or `core` point. The reason we decided to test this method against other clustering methods is because we're not sure if the data is globular or has a strong clustering tendency."
   ]
  },
  {
   "cell_type": "markdown",
   "metadata": {},
   "source": [
    "Here we are scaling our data prior to running our algorithm & performing dimensionality reduction utilizing PCA"
   ]
  },
  {
   "cell_type": "code",
   "execution_count": 11,
   "metadata": {},
   "outputs": [],
   "source": [
    "# importing required modules\n",
    "from sklearn.preprocessing import StandardScaler\n",
    "from sklearn.decomposition import PCA\n",
    "from sklearn.cluster import DBSCAN\n",
    "from sklearn.neighbors import NearestNeighbors\n",
    "from sklearn.metrics import accuracy_score, silhouette_score"
   ]
  },
  {
   "cell_type": "code",
   "execution_count": 12,
   "metadata": {},
   "outputs": [
    {
     "name": "stdout",
     "output_type": "stream",
     "text": [
      "Scaled Data: (480, 11)\n",
      "PCA data: (480, 6)\n"
     ]
    },
    {
     "data": {
      "text/html": [
       "<div>\n",
       "<style scoped>\n",
       "    .dataframe tbody tr th:only-of-type {\n",
       "        vertical-align: middle;\n",
       "    }\n",
       "\n",
       "    .dataframe tbody tr th {\n",
       "        vertical-align: top;\n",
       "    }\n",
       "\n",
       "    .dataframe thead th {\n",
       "        text-align: right;\n",
       "    }\n",
       "</style>\n",
       "<table border=\"1\" class=\"dataframe\">\n",
       "  <thead>\n",
       "    <tr style=\"text-align: right;\">\n",
       "      <th></th>\n",
       "      <th>0</th>\n",
       "      <th>1</th>\n",
       "      <th>2</th>\n",
       "      <th>3</th>\n",
       "      <th>4</th>\n",
       "      <th>5</th>\n",
       "    </tr>\n",
       "  </thead>\n",
       "  <tbody>\n",
       "    <tr>\n",
       "      <td>0</td>\n",
       "      <td>4.961966</td>\n",
       "      <td>-1.484301</td>\n",
       "      <td>0.994141</td>\n",
       "      <td>-0.189424</td>\n",
       "      <td>0.559614</td>\n",
       "      <td>-0.961236</td>\n",
       "    </tr>\n",
       "    <tr>\n",
       "      <td>1</td>\n",
       "      <td>-1.831206</td>\n",
       "      <td>3.188139</td>\n",
       "      <td>-0.141986</td>\n",
       "      <td>-0.403969</td>\n",
       "      <td>0.243600</td>\n",
       "      <td>0.271870</td>\n",
       "    </tr>\n",
       "    <tr>\n",
       "      <td>2</td>\n",
       "      <td>-1.733099</td>\n",
       "      <td>1.145365</td>\n",
       "      <td>0.904875</td>\n",
       "      <td>0.319254</td>\n",
       "      <td>-0.307267</td>\n",
       "      <td>-0.466213</td>\n",
       "    </tr>\n",
       "    <tr>\n",
       "      <td>3</td>\n",
       "      <td>3.172275</td>\n",
       "      <td>-2.216429</td>\n",
       "      <td>-1.215777</td>\n",
       "      <td>0.791525</td>\n",
       "      <td>-1.029716</td>\n",
       "      <td>-0.488417</td>\n",
       "    </tr>\n",
       "    <tr>\n",
       "      <td>4</td>\n",
       "      <td>-2.613363</td>\n",
       "      <td>0.692623</td>\n",
       "      <td>-1.054690</td>\n",
       "      <td>1.648111</td>\n",
       "      <td>0.241814</td>\n",
       "      <td>-0.357808</td>\n",
       "    </tr>\n",
       "  </tbody>\n",
       "</table>\n",
       "</div>"
      ],
      "text/plain": [
       "          0         1         2         3         4         5\n",
       "0  4.961966 -1.484301  0.994141 -0.189424  0.559614 -0.961236\n",
       "1 -1.831206  3.188139 -0.141986 -0.403969  0.243600  0.271870\n",
       "2 -1.733099  1.145365  0.904875  0.319254 -0.307267 -0.466213\n",
       "3  3.172275 -2.216429 -1.215777  0.791525 -1.029716 -0.488417\n",
       "4 -2.613363  0.692623 -1.054690  1.648111  0.241814 -0.357808"
      ]
     },
     "execution_count": 12,
     "metadata": {},
     "output_type": "execute_result"
    }
   ],
   "source": [
    "# standardizing data & converting back to a usable dataframe\n",
    "features_train_db = features_train.drop(['Artist'], axis=1)\n",
    "scaler = StandardScaler()\n",
    "scaled_data = scaler.fit_transform(features_train_db)\n",
    "scaled_df = pd.DataFrame(scaled_data)\n",
    "print(\"Scaled Data:\", scaled_df.shape)\n",
    "\n",
    "# performing PCA\n",
    "pca = PCA(n_components=0.95, svd_solver='full')\n",
    "pca_array = pca.fit_transform(scaled_df)\n",
    "pca_df = pd.DataFrame(pca_array)\n",
    "\n",
    "print(\"PCA data:\", pca_df.shape)\n",
    "pca_df.head()"
   ]
  },
  {
   "cell_type": "markdown",
   "metadata": {},
   "source": [
    "Now we will utilize `NearestNeighbors` and `kneighbors` to find the distance of each point to its 4th nearest neighbor"
   ]
  },
  {
   "cell_type": "code",
   "execution_count": 13,
   "metadata": {},
   "outputs": [
    {
     "name": "stdout",
     "output_type": "stream",
     "text": [
      "[[0.18549472 0.37806831 0.41673767 0.59987244]\n",
      " [0.18549472 0.38655956 0.51181952 0.61518976]\n",
      " [0.23641901 0.39710819 0.53192253 0.64375955]\n",
      " ...\n",
      " [2.06717952 2.63648405 2.83273094 3.51218259]\n",
      " [2.0731459  3.02030531 3.6150659  4.07083568]\n",
      " [2.0731459  3.92018198 4.04751515 4.3582267 ]]\n"
     ]
    },
    {
     "data": {
      "image/png": "[encoded data removed]",
      "text/plain": [
       "<Figure size 432x288 with 1 Axes>"
      ]
     },
     "metadata": {
      "needs_background": "light"
     },
     "output_type": "display_data"
    }
   ],
   "source": [
    "nn = NearestNeighbors(n_neighbors=4)\n",
    "nn.fit(pca_df)\n",
    "distances, indices = nn.kneighbors()\n",
    "sorted_distances = np.sort(distances, axis=0)\n",
    "print(sorted_distances)\n",
    "\n",
    "plt.plot(sorted_distances)\n",
    "plt.show()"
   ]
  },
  {
   "cell_type": "code",
   "execution_count": 34,
   "metadata": {},
   "outputs": [],
   "source": [
    "# we will attempt to use a Eps value of 2\n",
    "cluster = DBSCAN(eps=2, min_samples=4)\n",
    "pred = cluster.fit_predict(pca_df)\n",
    "labels = cluster.labels_\n",
    "\n",
    "# converting numpy arrary to series\n",
    "pred_series = pd.Series(pred)"
   ]
  },
  {
   "cell_type": "code",
   "execution_count": 29,
   "metadata": {},
   "outputs": [],
   "source": [
    "# function provided to us\n",
    "import random as rand\n",
    "from sklearn.manifold import MDS\n",
    "\n",
    "def scatter(data, labels, numPoints = 300):\n",
    "    \n",
    "    numEntries = data.shape[0]\n",
    "    start = rand.randint(0, numEntries - numPoints)\n",
    "    end = start + numPoints\n",
    "    data = data.iloc[start:end, :]\n",
    "    labels = labels.iloc[start:end]\n",
    "    \n",
    "    mds = MDS(n_components=2)\n",
    "    mds_data = mds.fit_transform(data.iloc[:, :-1])\n",
    "    plt.scatter(mds_data[:, 0], mds_data[:, 1], c=labels, s=50)\n",
    "    plt.show()"
   ]
  },
  {
   "cell_type": "code",
   "execution_count": 35,
   "metadata": {},
   "outputs": [
    {
     "data": {
      "image/png": "[encoded data removed]",
      "text/plain": [
       "<Figure size 432x288 with 1 Axes>"
      ]
     },
     "metadata": {
      "needs_background": "light"
     },
     "output_type": "display_data"
    }
   ],
   "source": [
    "scatter(pca_df, pred_series)"
   ]
  },
  {
   "cell_type": "markdown",
   "metadata": {},
   "source": [
    "Now we will calculate the silhouette score for the model. We see that this indicates that the model did not fill well to the data, as it is low. A possible explination would be that the distances beteween the points were not meaningful enough or that the dataset did not have a real clustering tendency."
   ]
  },
  {
   "cell_type": "code",
   "execution_count": 37,
   "metadata": {},
   "outputs": [
    {
     "name": "stdout",
     "output_type": "stream",
     "text": [
      "Silhouette score: 0.13953205664538115\n"
     ]
    }
   ],
   "source": [
    "# calculating silhouette score\n",
    "s_score = silhouette_score(pca_df, pred_series)\n",
    "print(\"Silhouette score:\", s_score)"
   ]
  },
  {
   "cell_type": "code",
   "execution_count": null,
   "metadata": {},
   "outputs": [],
   "source": []
  }
 ],
 "metadata": {
  "kernelspec": {
   "display_name": "Python 3",
   "language": "python",
   "name": "python3"
  },
  "language_info": {
   "codemirror_mode": {
    "name": "ipython",
    "version": 3
   },
   "file_extension": ".py",
   "mimetype": "text/x-python",
   "name": "python",
   "nbconvert_exporter": "python",
   "pygments_lexer": "ipython3",
   "version": "3.7.4"
  }
 },
 "nbformat": 4,
 "nbformat_minor": 2
}
